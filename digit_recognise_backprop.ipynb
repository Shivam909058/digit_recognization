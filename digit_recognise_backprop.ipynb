{
 "cells": [
  {
   "metadata": {
    "ExecuteTime": {
     "end_time": "2024-06-02T17:17:52.877916Z",
     "start_time": "2024-06-02T17:17:46.009352Z"
    }
   },
   "cell_type": "code",
   "source": [
    "import numpy as np\n",
    "import matplotlib.pyplot as plt\n",
    "from sklearn.model_selection import train_test_split\n",
    "import tensorflow as tf\n",
    "from tensorflow import keras\n",
    "from tensorflow.keras import Sequential\n",
    "from tensorflow.keras.layers import Flatten, Dense\n",
    "from tensorflow.keras.optimizers import Adam\n",
    "from tensorflow.keras.layers import Conv2D, MaxPooling2D, Flatten, Dense, Dropout\n",
    "from tensorflow.keras.utils import to_categorical\n",
    "import cv2 as cv\n",
    "import os\n",
    "os.environ['TF_ENABLE_ONEDNN_OPTS'] = '0'\n"
   ],
   "id": "407ca5c2750ef47d",
   "outputs": [],
   "execution_count": 1
  },
  {
   "metadata": {
    "ExecuteTime": {
     "end_time": "2024-06-02T17:17:53.057285Z",
     "start_time": "2024-06-02T17:17:52.877916Z"
    }
   },
   "cell_type": "code",
   "source": [
    "\n",
    "\n",
    "(X_train, y_train), (X_test, y_test) = keras.datasets.mnist.load_data()\n"
   ],
   "id": "f255dd761cd39723",
   "outputs": [],
   "execution_count": 2
  },
  {
   "metadata": {
    "ExecuteTime": {
     "end_time": "2024-06-02T17:18:22.916009Z",
     "start_time": "2024-06-02T17:17:53.057285Z"
    }
   },
   "cell_type": "code",
   "source": [
    "\n",
    "\n",
    "num_pixels = X_train.shape[1] * X_train.shape[2]\n",
    "X_train = X_train.reshape((X_train.shape[0], num_pixels)).astype('float32')\n",
    "X_test = X_test.reshape((X_test.shape[0], num_pixels)).astype('float32')\n",
    "\n",
    "\n",
    "X_train = X_train / 255\n",
    "X_test = X_test / 255\n",
    "\n",
    "\n",
    "y_train = to_categorical(y_train)\n",
    "y_test = to_categorical(y_test)\n",
    "num_classes = y_test.shape[1]\n",
    "\n",
    "\n",
    "model = Sequential()\n",
    "model.add(Dense(num_pixels, input_dim=num_pixels, kernel_initializer='normal', activation='relu'))\n",
    "model.add(Dense(num_classes, kernel_initializer='normal', activation='softmax'))\n",
    "\n",
    "\n",
    "model.compile(loss='categorical_crossentropy', optimizer='adam', metrics=['accuracy'])\n",
    "\n",
    "# Fit the model\n",
    "model.fit(X_train, y_train, validation_data=(X_test, y_test), epochs=20, batch_size=200, verbose=2)\n",
    "\n",
    "scores = model.evaluate(X_test, y_test, verbose=0)\n",
    "print(\"Baseline Error: %.2f%%\" % (100-scores[1]*100))"
   ],
   "id": "a910e7086ff6a07",
   "outputs": [
    {
     "name": "stdout",
     "output_type": "stream",
     "text": [
      "Epoch 1/20\n"
     ]
    },
    {
     "name": "stderr",
     "output_type": "stream",
     "text": [
      "C:\\Users\\shivam\\PycharmProjects\\machine_learning_full_stack\\Deep_learning\\myenv\\Lib\\site-packages\\keras\\src\\layers\\core\\dense.py:87: UserWarning: Do not pass an `input_shape`/`input_dim` argument to a layer. When using Sequential models, prefer using an `Input(shape)` object as the first layer in the model instead.\n",
      "  super().__init__(activity_regularizer=activity_regularizer, **kwargs)\n"
     ]
    },
    {
     "name": "stdout",
     "output_type": "stream",
     "text": [
      "300/300 - 2s - 7ms/step - accuracy: 0.9220 - loss: 0.2766 - val_accuracy: 0.9603 - val_loss: 0.1346\n",
      "Epoch 2/20\n",
      "300/300 - 1s - 5ms/step - accuracy: 0.9688 - loss: 0.1099 - val_accuracy: 0.9721 - val_loss: 0.0951\n",
      "Epoch 3/20\n",
      "300/300 - 1s - 5ms/step - accuracy: 0.9793 - loss: 0.0714 - val_accuracy: 0.9750 - val_loss: 0.0793\n",
      "Epoch 4/20\n",
      "300/300 - 1s - 5ms/step - accuracy: 0.9854 - loss: 0.0501 - val_accuracy: 0.9779 - val_loss: 0.0702\n",
      "Epoch 5/20\n",
      "300/300 - 1s - 5ms/step - accuracy: 0.9898 - loss: 0.0364 - val_accuracy: 0.9780 - val_loss: 0.0674\n",
      "Epoch 6/20\n",
      "300/300 - 1s - 5ms/step - accuracy: 0.9927 - loss: 0.0260 - val_accuracy: 0.9794 - val_loss: 0.0672\n",
      "Epoch 7/20\n",
      "300/300 - 2s - 5ms/step - accuracy: 0.9950 - loss: 0.0196 - val_accuracy: 0.9811 - val_loss: 0.0589\n",
      "Epoch 8/20\n",
      "300/300 - 1s - 5ms/step - accuracy: 0.9969 - loss: 0.0137 - val_accuracy: 0.9825 - val_loss: 0.0597\n",
      "Epoch 9/20\n",
      "300/300 - 1s - 5ms/step - accuracy: 0.9976 - loss: 0.0108 - val_accuracy: 0.9816 - val_loss: 0.0594\n",
      "Epoch 10/20\n",
      "300/300 - 1s - 5ms/step - accuracy: 0.9985 - loss: 0.0083 - val_accuracy: 0.9809 - val_loss: 0.0697\n",
      "Epoch 11/20\n",
      "300/300 - 1s - 5ms/step - accuracy: 0.9988 - loss: 0.0066 - val_accuracy: 0.9821 - val_loss: 0.0631\n",
      "Epoch 12/20\n",
      "300/300 - 1s - 5ms/step - accuracy: 0.9990 - loss: 0.0059 - val_accuracy: 0.9822 - val_loss: 0.0636\n",
      "Epoch 13/20\n",
      "300/300 - 1s - 5ms/step - accuracy: 0.9993 - loss: 0.0041 - val_accuracy: 0.9807 - val_loss: 0.0660\n",
      "Epoch 14/20\n",
      "300/300 - 1s - 5ms/step - accuracy: 0.9998 - loss: 0.0028 - val_accuracy: 0.9833 - val_loss: 0.0633\n",
      "Epoch 15/20\n",
      "300/300 - 1s - 5ms/step - accuracy: 0.9998 - loss: 0.0020 - val_accuracy: 0.9811 - val_loss: 0.0706\n",
      "Epoch 16/20\n",
      "300/300 - 1s - 5ms/step - accuracy: 0.9979 - loss: 0.0075 - val_accuracy: 0.9776 - val_loss: 0.0885\n",
      "Epoch 17/20\n",
      "300/300 - 1s - 5ms/step - accuracy: 0.9968 - loss: 0.0101 - val_accuracy: 0.9812 - val_loss: 0.0726\n",
      "Epoch 18/20\n",
      "300/300 - 1s - 5ms/step - accuracy: 0.9990 - loss: 0.0040 - val_accuracy: 0.9826 - val_loss: 0.0700\n",
      "Epoch 19/20\n",
      "300/300 - 1s - 5ms/step - accuracy: 0.9998 - loss: 0.0015 - val_accuracy: 0.9835 - val_loss: 0.0679\n",
      "Epoch 20/20\n",
      "300/300 - 1s - 5ms/step - accuracy: 0.9999 - loss: 7.7411e-04 - val_accuracy: 0.9835 - val_loss: 0.0689\n",
      "Baseline Error: 1.65%\n"
     ]
    }
   ],
   "execution_count": 3
  },
  {
   "metadata": {
    "ExecuteTime": {
     "end_time": "2024-06-02T17:18:23.349967Z",
     "start_time": "2024-06-02T17:18:22.916009Z"
    }
   },
   "cell_type": "code",
   "source": [
    "\n",
    "predictions = model.predict(X_test)\n"
   ],
   "id": "512585c4ede98859",
   "outputs": [
    {
     "name": "stdout",
     "output_type": "stream",
     "text": [
      "\u001B[1m313/313\u001B[0m \u001B[32m━━━━━━━━━━━━━━━━━━━━\u001B[0m\u001B[37m\u001B[0m \u001B[1m0s\u001B[0m 843us/step\n"
     ]
    }
   ],
   "execution_count": 4
  },
  {
   "metadata": {
    "ExecuteTime": {
     "end_time": "2024-06-02T17:18:24.734181Z",
     "start_time": "2024-06-02T17:18:23.349967Z"
    }
   },
   "cell_type": "code",
   "source": [
    "# lets see some predictions on the datasets \n",
    "for i in range(9):\n",
    "    plt.subplot(3,3,i+1)\n",
    "    plt.imshow(X_test[i].reshape(28,28), cmap='gray', interpolation='none')\n",
    "    plt.title(\"Predicted {}, Actual {}\".format(np.argmax(predictions[i]), np.argmax(y_test[i])))\n",
    "    plt.tight_layout()\n",
    "plt.show()\n"
   ],
   "id": "f5d550aae92de8b8",
   "outputs": [
    {
     "data": {
      "text/plain": [
       "<Figure size 640x480 with 9 Axes>"
      ],
      "image/png": "[encoded data removed]"
     },
     "metadata": {},
     "output_type": "display_data"
    }
   ],
   "execution_count": 5
  },
  {
   "metadata": {
    "ExecuteTime": {
     "end_time": "2024-06-02T17:18:24.738366Z",
     "start_time": "2024-06-02T17:18:24.734181Z"
    }
   },
   "cell_type": "code",
   "source": [
    "def upload_image(file):\n",
    "    img = keras.preprocessing.image.load_img(file, target_size=(28, 28), color_mode='grayscale')\n",
    "    img = keras.preprocessing.image.img_to_array(img)\n",
    "    img = img.reshape(1, 784)\n",
    "    img = img.astype('float32')\n",
    "    img = img / 255.0\n",
    "    return img"
   ],
   "id": "bccc877319c162e1",
   "outputs": [],
   "execution_count": 6
  },
  {
   "metadata": {
    "ExecuteTime": {
     "end_time": "2024-06-02T17:30:11.567351Z",
     "start_time": "2024-06-02T17:30:11.395298Z"
    }
   },
   "cell_type": "code",
   "source": [
    "# lets make a prediction\n",
    "img = upload_image('datasets/0.png')\n",
    "prediction = model.predict(img)\n",
    "predicted_image = img.reshape(28, 28)\n",
    "plt.imshow(predicted_image, cmap='gray', interpolation='none')\n",
    "plt.show()\n",
    "\n"
   ],
   "id": "5bba580e92a5f12c",
   "outputs": [
    {
     "name": "stdout",
     "output_type": "stream",
     "text": [
      "\u001B[1m1/1\u001B[0m \u001B[32m━━━━━━━━━━━━━━━━━━━━\u001B[0m\u001B[37m\u001B[0m \u001B[1m0s\u001B[0m 21ms/step\n"
     ]
    },
    {
     "data": {
      "text/plain": [
       "<Figure size 640x480 with 1 Axes>"
      ],
      "image/png": "[encoded data removed]"
     },
     "metadata": {},
     "output_type": "display_data"
    }
   ],
   "execution_count": 19
  },
  {
   "metadata": {
    "ExecuteTime": {
     "end_time": "2024-06-02T17:18:24.888481Z",
     "start_time": "2024-06-02T17:18:24.885471Z"
    }
   },
   "cell_type": "code",
   "source": " # thanks for watching",
   "id": "e07e053a7faa6dc2",
   "outputs": [],
   "execution_count": 7
  }
 ],
 "metadata": {
  "kernelspec": {
   "display_name": "myenv",
   "language": "python",
   "name": "myenv"
  },
  "language_info": {
   "codemirror_mode": {
    "name": "ipython",
    "version": 2
   },
   "file_extension": ".py",
   "mimetype": "text/x-python",
   "name": "python",
   "nbconvert_exporter": "python",
   "pygments_lexer": "ipython2",
   "version": "2.7.6"
  }
 },
 "nbformat": 4,
 "nbformat_minor": 5
}
